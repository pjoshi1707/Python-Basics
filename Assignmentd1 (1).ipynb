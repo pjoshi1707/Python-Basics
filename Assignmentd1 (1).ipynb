{
  "nbformat": 4,
  "nbformat_minor": 0,
  "metadata": {
    "colab": {
      "provenance": []
    },
    "kernelspec": {
      "name": "python3",
      "display_name": "Python 3"
    },
    "language_info": {
      "name": "python"
    }
  },
  "cells": [
    {
      "cell_type": "markdown",
      "source": [
        "#Python Assignment Question :-"
      ],
      "metadata": {
        "id": "WlEBRmQzFntc"
      }
    },
    {
      "cell_type": "markdown",
      "source": [
        "##1. Explain with an example each when to use a for loop and a while loop."
      ],
      "metadata": {
        "id": "WILGBwg-GBtl"
      }
    },
    {
      "cell_type": "markdown",
      "source": [
        "Ans- A for loop is used when the number of iterations is known beforehand, while a while loop is used when the number of iterations is unknown and depends on a condition. In essence, if you need to iterate a specific number of times, use a for loop. If you need to iterate until a certain condition is met, use a while loop.\n",
        "\n",
        "For Loop Example:-\n",
        "Imagine you have a list of student names and you want to print each name. You know the exact number of names in the list, so you would use a for loop.\n",
        "\n",
        "While Loop Example:\n",
        "Now, imagine you're building a game where the user needs to guess a number between 1 and 10. You don't know how many guesses the user will need, so you would use a while loop"
      ],
      "metadata": {
        "id": "tKn2pDh3Kukj"
      }
    },
    {
      "cell_type": "markdown",
      "source": [
        "##2. write a python program to print the sum and product of the first 10 natural numbers using for and while lopp."
      ],
      "metadata": {
        "id": "MhDmUlBfGPjc"
      }
    },
    {
      "cell_type": "code",
      "source": [
        "# Sum and product using for loop\n",
        "sum_for = 0\n",
        "product_for = 1\n",
        "\n",
        "for i in range(1, 11):\n",
        "    sum_for += i\n",
        "    product_for *= i\n",
        "\n",
        "print(\"Using for loop:\")\n",
        "print(\"Sum:\", sum_for)\n",
        "print(\"Product:\", product_for)"
      ],
      "metadata": {
        "colab": {
          "base_uri": "https://localhost:8080/"
        },
        "id": "sw0n4J48KbLl",
        "outputId": "fa67143e-f7f7-4e3a-b19b-9fc79bb16704"
      },
      "execution_count": null,
      "outputs": [
        {
          "output_type": "stream",
          "name": "stdout",
          "text": [
            "Using for loop:\n",
            "Sum: 55\n",
            "Product: 3628800\n"
          ]
        }
      ]
    },
    {
      "cell_type": "code",
      "source": [
        "# Sum and product using while loop\n",
        "sum_while = 0\n",
        "product_while = 1\n",
        "i = 1\n",
        "\n",
        "while i <= 10:\n",
        "    sum_while += i\n",
        "    product_while *= i\n",
        "    i += 1\n",
        "\n",
        "print(\"\\nUsing while loop:\")\n",
        "print(\"Sum:\", sum_while)\n",
        "print(\"Product:\", product_while)"
      ],
      "metadata": {
        "colab": {
          "base_uri": "https://localhost:8080/"
        },
        "id": "ThoyLg-UKeSs",
        "outputId": "17b37ce9-f6a0-40e4-90ac-5cd92dc5396e"
      },
      "execution_count": null,
      "outputs": [
        {
          "output_type": "stream",
          "name": "stdout",
          "text": [
            "\n",
            "Using while loop:\n",
            "Sum: 55\n",
            "Product: 3628800\n"
          ]
        }
      ]
    },
    {
      "cell_type": "markdown",
      "source": [
        "##3. Create a Python program to compute the electricity bill for a household.\n",
        "The per-unit charges in rupees are as follows:For the first 100 units, the user will be charged Rs. 4.5 per unit, For the next 100 units, the user will be charged Rs. 6 per unit, For the next 100 units, the user will be charged Rs. 10 per unit, After 300 units and above, the user will be charged Rs. 20 per unit\n",
        "You are required to take the units of electricity consumed in a month from the user as input.\n",
        "\n",
        "Your program must pass this test case:\n",
        "When the unit of electricity consumed by the user in a month is 310, the total electricity bill should be Rs. 2250\n"
      ],
      "metadata": {
        "id": "JnXuc6aPKx1M"
      }
    },
    {
      "cell_type": "code",
      "source": [
        "def calculate_electricity_bill(units):\n",
        "    bill = 0\n",
        "\n",
        "    if units <= 100:\n",
        "        bill = units * 4.5\n",
        "    elif units <= 200:\n",
        "        bill = (100 * 4.5) + ((units - 100) * 6)\n",
        "    elif units <= 300:\n",
        "        bill = (100 * 4.5) + (100 * 6) + ((units - 200) * 10)\n",
        "    else:\n",
        "        bill = (100 * 4.5) + (100 * 6) + (100 * 10) + ((units - 300) * 20)\n",
        "\n",
        "    return bill\n",
        "\n",
        "# Input from user\n",
        "units_consumed = int(input(\"Enter the number of units consumed: \"))\n",
        "total_bill = calculate_electricity_bill(units_consumed)\n",
        "\n",
        "print(f\"Total electricity bill: Rs. {total_bill}\")"
      ],
      "metadata": {
        "colab": {
          "base_uri": "https://localhost:8080/"
        },
        "id": "MBd2nrysYYou",
        "outputId": "3e7c01eb-4fb9-4228-84c5-5b518a200e9b"
      },
      "execution_count": null,
      "outputs": [
        {
          "output_type": "stream",
          "name": "stdout",
          "text": [
            "Enter the number of units consumed: 310\n",
            "Total electricity bill: Rs. 2250.0\n"
          ]
        }
      ]
    },
    {
      "cell_type": "markdown",
      "source": [
        "##Q4. Create a list of numbers from 1 to 100. Use for loop and while loop to calculate the cube of each number, and if the cube of that number is divisible by 4 or 5, then append that number to a list and print that list.\n"
      ],
      "metadata": {
        "id": "gp_6XX0hetu_"
      }
    },
    {
      "cell_type": "code",
      "source": [
        "# List to store numbers whose cube is divisible by 4 or 5\n",
        "result_for = []\n",
        "\n",
        "for num in range(1, 101):\n",
        "    cube = num ** 3\n",
        "    if cube % 4 == 0 or cube % 5 == 0:\n",
        "        result_for.append(num)\n",
        "\n",
        "print(\"Using for loop:\")\n",
        "print(result_for)"
      ],
      "metadata": {
        "colab": {
          "base_uri": "https://localhost:8080/"
        },
        "id": "mfF90YG6fKC-",
        "outputId": "a44bdb49-597d-4250-bcc8-0dc82d7cc68b"
      },
      "execution_count": null,
      "outputs": [
        {
          "output_type": "stream",
          "name": "stdout",
          "text": [
            "Using for loop:\n",
            "[2, 4, 5, 6, 8, 10, 12, 14, 15, 16, 18, 20, 22, 24, 25, 26, 28, 30, 32, 34, 35, 36, 38, 40, 42, 44, 45, 46, 48, 50, 52, 54, 55, 56, 58, 60, 62, 64, 65, 66, 68, 70, 72, 74, 75, 76, 78, 80, 82, 84, 85, 86, 88, 90, 92, 94, 95, 96, 98, 100]\n"
          ]
        }
      ]
    },
    {
      "cell_type": "code",
      "source": [
        "# using while loop\n",
        "result_while = []\n",
        "num = 1\n",
        "while num < 101:\n",
        "  cube = num**3\n",
        "  if cube % 4 == 0 or cube % 5 == 0:\n",
        "    result_while.append(num)\n",
        "  num +=1\n",
        "\n",
        "print(\"using while loop\")\n",
        "print(result_while)"
      ],
      "metadata": {
        "colab": {
          "base_uri": "https://localhost:8080/"
        },
        "id": "PCPVDeZHoa6K",
        "outputId": "1cfbd405-a36e-4d23-e709-368351766c0c"
      },
      "execution_count": null,
      "outputs": [
        {
          "output_type": "stream",
          "name": "stdout",
          "text": [
            "using while loop\n",
            "[2, 4, 5, 6, 8, 10, 12, 14, 15, 16, 18, 20, 22, 24, 25, 26, 28, 30, 32, 34, 35, 36, 38, 40, 42, 44, 45, 46, 48, 50, 52, 54, 55, 56, 58, 60, 62, 64, 65, 66, 68, 70, 72, 74, 75, 76, 78, 80, 82, 84, 85, 86, 88, 90, 92, 94, 95, 96, 98, 100]\n"
          ]
        }
      ]
    },
    {
      "cell_type": "markdown",
      "source": [
        "##5.  Write a program to filter and count vowels in the below-given string. string = \"I want to become a data scientist\""
      ],
      "metadata": {
        "id": "dFSNUoQEqYAh"
      }
    },
    {
      "cell_type": "code",
      "source": [
        "string = \"I want to become a data scientist\"\n",
        "\n",
        "vowels = \"aeiouAEIOU\"\n",
        "\n",
        "found_vowels = []\n",
        "for char in string:\n",
        "    if char in vowels:\n",
        "        found_vowels.append(char)\n",
        "\n",
        "# Output results\n",
        "print(\"Vowels found:\", found_vowels)\n",
        "print(\"Total number of vowels:\", len(found_vowels))"
      ],
      "metadata": {
        "colab": {
          "base_uri": "https://localhost:8080/"
        },
        "id": "XAeSyxlhq2g5",
        "outputId": "f3438a7b-3650-4337-88cd-efd8a3d22bb9"
      },
      "execution_count": null,
      "outputs": [
        {
          "output_type": "stream",
          "name": "stdout",
          "text": [
            "Vowels found: ['I', 'a', 'o', 'e', 'o', 'e', 'a', 'a', 'a', 'i', 'e', 'i']\n",
            "Total number of vowels: 12\n"
          ]
        }
      ]
    }
  ]
}